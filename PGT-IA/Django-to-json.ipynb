{
 "cells": [
  {
   "cell_type": "markdown",
   "metadata": {},
   "source": [
    "# Django Views Parser \n",
    "###  from PDF to json/csv"
   ]
  },
  {
   "cell_type": "markdown",
   "metadata": {},
   "source": [
    "## models"
   ]
  },
  {
   "cell_type": "code",
   "execution_count": null,
   "metadata": {},
   "outputs": [],
   "source": [
    "from django.db import models\n",
    "\n",
    "# Create your models here.\n",
    "class Save(models.Model):\n",
    "    name=models.TextField(null=True, blank=True, default=None)\n",
    "    json_field = models.TextField(null=True, blank=True, default=None)"
   ]
  },
  {
   "cell_type": "code",
   "execution_count": null,
   "metadata": {},
   "outputs": [],
   "source": [
    "from django.shortcuts import render\n",
    "from django.views.decorators.csrf import csrf_exempt\n",
    "import tabula\n",
    "from django.http import JsonResponse\n",
    "import csv,json,os\n",
    "import subprocess\n",
    "from tika import parser\n",
    "from django.core.files.storage import default_storage\n",
    "from django.core.files.base import ContentFile\n",
    "from django.conf import settings\n",
    "\n",
    "\n",
    "# Create your views here.\n",
    "@csrf_exempt\n",
    "def upload_file(request):\n",
    "    template=\"upload.html\"\n",
    "    if request.method==\"POST\":\n",
    "        file=request.FILES[\"myfile\"] #file taken\n",
    "        f='somename.pdf'\n",
    "        path = default_storage.save('somename.pdf', ContentFile(file.read()))\n",
    "        tmp_file = os.path.join(settings.MEDIA_ROOT, path)\n",
    "#------------- finding account holder's name-----------------\n",
    "        raw = parser.from_file(f)\n",
    "        for i in range(len(raw[\"content\"])):\n",
    "            if raw[\"content\"][i] == \"\\t\":\n",
    "                break\n",
    "        for j in range(i, len(raw[\"content\"])):\n",
    "            if raw[\"content\"][j] == \"\\n\":\n",
    "                break\n",
    "        name= \"\"\n",
    "        for t in range(i + 1, j):\n",
    "             name+=raw[\"content\"][t]\n",
    "        namef=\" \".join(name.split())\n",
    "        print(namef)\n",
    "#--------------name found--------------------\n",
    "#-----------converting pdf to csv  and json-------------------\n",
    "        tabula.convert_into(f, \"output.csv\",lattice=True,pages='all',output_format=\"csv\")\n",
    "        # Open the CSV\n",
    "        f = open('output.csv', 'r')\n",
    "        # Change each fieldname to the appropriate field name. I know, so difficult.\n",
    "        reader = csv.DictReader(f, fieldnames=(\n",
    "        \"Txn Date\", \"Value\\nDate\", \"Description\", \"Ref No./Cheque\\nNo.\", \"Debit\", \"Credit\", \"Balance\"))\n",
    "        # Parse the CSV into JSON\n",
    "\n",
    "        out = json.dumps([row for row in reader])\n",
    "        # Save the JSON\n",
    "        f = open('file.json', 'w')\n",
    "        f.write(out)\n",
    "\n",
    "#-------------------removing invalid tags from json file liek \\n,\\r-----------------------\n",
    "        with open('file.json', 'r', encoding='utf-8') as f:\n",
    "            content = f.read()\n",
    "            invalid_tags = ['\\\\r', '\\\\n', '<', '>', '-', ';']\n",
    "            for invalid_tag in invalid_tags:\n",
    "                content = content.replace(invalid_tag, '')\n",
    "            content = content.replace('&u', 'ü')\n",
    "#------------------saving the object iin database-------------------\n",
    "            john = Save.objects.create(name=namef, json_field=content)\n",
    "        subprocess.call(['rm', '-r'] + ['output.csv','file.json',tmp_file])\n",
    "    return render(request, template)\n",
    "\n",
    "\n",
    "@csrf_exempt\n",
    "def view(request):\n",
    "    template=\"get.html\"\n",
    "    if request.method == \"POST\":\n",
    "        name=request.POST.get('name','')\n",
    "        results = Save.objects.filter(name=\"Mr. KRISHNA KUNAL\").values('json_field')\n",
    "        print(results)\n",
    "        # extra \\ are coming in my json response which are not present in the results.\n",
    "        return JsonResponse({\"\": list(results)})\n",
    "    return render(request, template)\n"
   ]
  },
  {
   "cell_type": "markdown",
   "metadata": {},
   "source": []
  },
  {
   "cell_type": "code",
   "execution_count": null,
   "metadata": {},
   "outputs": [],
   "source": []
  },
  {
   "cell_type": "code",
   "execution_count": null,
   "metadata": {},
   "outputs": [],
   "source": []
  },
  {
   "cell_type": "code",
   "execution_count": null,
   "metadata": {},
   "outputs": [],
   "source": []
  },
  {
   "cell_type": "code",
   "execution_count": null,
   "metadata": {},
   "outputs": [],
   "source": []
  },
  {
   "cell_type": "code",
   "execution_count": null,
   "metadata": {},
   "outputs": [],
   "source": []
  }
 ],
 "metadata": {
  "kernelspec": {
   "display_name": "Python 3",
   "language": "python",
   "name": "python3"
  },
  "language_info": {
   "codemirror_mode": {
    "name": "ipython",
    "version": 3
   },
   "file_extension": ".py",
   "mimetype": "text/x-python",
   "name": "python",
   "nbconvert_exporter": "python",
   "pygments_lexer": "ipython3",
   "version": "3.7.4"
  }
 },
 "nbformat": 4,
 "nbformat_minor": 2
}
